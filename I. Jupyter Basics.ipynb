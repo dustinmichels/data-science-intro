{
 "cells": [
  {
   "cell_type": "markdown",
   "metadata": {},
   "source": [
    "# Python & Jupyter: Data Science Demo"
   ]
  },
  {
   "cell_type": "markdown",
   "metadata": {},
   "source": [
    "```\n",
    "Dustin Michels\n",
    "Dec 31, 2018\n",
    "```\n",
    "\n",
    "To learn more: Check out the free e-book [\"Python Data Science Handbook\"](https://jakevdp.github.io/PythonDataScienceHandbook/) by Jake Vanderplas!"
   ]
  },
  {
   "cell_type": "markdown",
   "metadata": {},
   "source": [
    "----\n",
    "\n",
    "## I. Jupyter Basics"
   ]
  },
  {
   "cell_type": "markdown",
   "metadata": {},
   "source": [
    "### Code Execution\n",
    "\n",
    "- `shift` + `enter` to run a cell and proceed to the next cell\n",
    "- `ctrl` + `enter` to run a cell and stay in play (to easily re-run it)\n",
    "- `esc` + `0` + `0` to \"restart kernel\" (resetting variables)\n",
    "- menu: 'kernel > restart and run all cells' to run all cells"
   ]
  },
  {
   "cell_type": "markdown",
   "metadata": {},
   "source": [
    "### Gettin Around\n",
    "\n",
    "**Changing Modes**\n",
    "\n",
    "- `esc` to go from edit mode -> navigation mode\n",
    "- `enter` to from navigatin mode -> edit mode\n",
    "\n",
    "\n",
    "**In Navigation Mode**\n",
    "\n",
    "- `a` to add cell above\n",
    "- `b` to add cell below\n",
    "- `x` to cut/delete cell\n",
    "- `v` to paste cell\n",
    "- `m` to make cell a Markdown cell\n",
    "- `y` to make a cell a Code cell"
   ]
  },
  {
   "cell_type": "markdown",
   "metadata": {},
   "source": [
    "### Writing Code"
   ]
  },
  {
   "cell_type": "markdown",
   "metadata": {},
   "source": [
    "**Global variables**\n",
    "\n",
    "Variables declared in cells are \"global\", so pay attention to cell execution order"
   ]
  },
  {
   "cell_type": "code",
   "execution_count": 1,
   "metadata": {},
   "outputs": [],
   "source": [
    "animal = \"dog\""
   ]
  },
  {
   "cell_type": "code",
   "execution_count": 2,
   "metadata": {},
   "outputs": [],
   "source": [
    "animal = \"cat\""
   ]
  },
  {
   "cell_type": "code",
   "execution_count": 3,
   "metadata": {},
   "outputs": [
    {
     "data": {
      "text/plain": [
       "'cat'"
      ]
     },
     "execution_count": 3,
     "metadata": {},
     "output_type": "execute_result"
    }
   ],
   "source": [
    "animal"
   ]
  },
  {
   "cell_type": "markdown",
   "metadata": {},
   "source": [
    "**Tab Completion**\n",
    "\n",
    "In many places, pressing tab will pull up suggested ways to complete your code. This can be a great way to discover new methods.\n",
    "\n",
    "Looks like this:\n",
    "\n",
    "![tab completion screenshot](imgs/tab_complete_screenshot.png)"
   ]
  },
  {
   "cell_type": "code",
   "execution_count": 4,
   "metadata": {},
   "outputs": [
    {
     "data": {
      "text/plain": [
       "'CAT'"
      ]
     },
     "execution_count": 4,
     "metadata": {},
     "output_type": "execute_result"
    }
   ],
   "source": [
    "animal.upper()"
   ]
  },
  {
   "cell_type": "markdown",
   "metadata": {},
   "source": [
    "**Function signatures**\n",
    "\n",
    "Pressing `shift` + `tab` at the start of a function you're calling pulls up the function signature (some description of what the function does, what it takes expects as arguments, what it returns. This is super helpful!!\n",
    "\n",
    "Executing a cell with a `?` after the function name pulls up the same thing:"
   ]
  },
  {
   "cell_type": "code",
   "execution_count": 5,
   "metadata": {},
   "outputs": [
    {
     "data": {
      "text/plain": [
       "\u001b[0;31mDocstring:\u001b[0m\n",
       "S.upper() -> str\n",
       "\n",
       "Return a copy of S converted to uppercase.\n",
       "\u001b[0;31mType:\u001b[0m      builtin_function_or_method\n"
      ]
     },
     "metadata": {},
     "output_type": "display_data"
    }
   ],
   "source": [
    "animal.upper?"
   ]
  },
  {
   "cell_type": "markdown",
   "metadata": {},
   "source": [
    "**The exclamation mark**\n",
    "\n",
    "Placing a \"!\" at the start of the cell means you want to execute a bash/command prompt command (rather than Python)"
   ]
  },
  {
   "cell_type": "code",
   "execution_count": 6,
   "metadata": {},
   "outputs": [
    {
     "name": "stdout",
     "output_type": "stream",
     "text": [
      "/Users/dustymichels/GitRepos/Data-Science-Demo\n"
     ]
    }
   ],
   "source": [
    "# print working directory\n",
    "! pwd"
   ]
  },
  {
   "cell_type": "code",
   "execution_count": 7,
   "metadata": {},
   "outputs": [
    {
     "name": "stdout",
     "output_type": "stream",
     "text": [
      "I. Jupyter Basics.ipynb     \u001b[34mdata\u001b[m\u001b[m\n",
      "II. Data Manipulation.ipynb example_export.csv\n",
      "III. Plotting.ipynb         file_name.csv\n",
      "README.md                   \u001b[34mimgs\u001b[m\u001b[m\n"
     ]
    }
   ],
   "source": [
    "# list files\n",
    "! ls"
   ]
  },
  {
   "cell_type": "markdown",
   "metadata": {},
   "source": [
    "**The underscore**\n",
    "\n",
    "A good trick: underscore gets the previous output. Two underscores for two outputs back, etc."
   ]
  },
  {
   "cell_type": "code",
   "execution_count": 8,
   "metadata": {},
   "outputs": [
    {
     "data": {
      "text/plain": [
       "'Joe'"
      ]
     },
     "execution_count": 8,
     "metadata": {},
     "output_type": "execute_result"
    }
   ],
   "source": [
    "name = \"Joe\"\n",
    "name"
   ]
  },
  {
   "cell_type": "code",
   "execution_count": 9,
   "metadata": {},
   "outputs": [
    {
     "data": {
      "text/plain": [
       "'Joe'"
      ]
     },
     "execution_count": 9,
     "metadata": {},
     "output_type": "execute_result"
    }
   ],
   "source": [
    "_"
   ]
  },
  {
   "cell_type": "markdown",
   "metadata": {},
   "source": [
    "### Writing Markdown\n",
    "\n",
    "[Here](https://commonmark.org/help/) is a good reference! For quick demo:\n",
    "\n",
    "- Dashes (`-`) and/or stars (`*`) to make an unordered list\n",
    "- One star to *italicize*\n",
    "- Two stars to **bold**\n",
    "\n",
    "\n",
    "1. Use numbers to make a numbered list\n",
    "2. Pretty cool, right??\n",
    "2. The actual numbers you put don't matter, it auto-increments\n",
    "\n",
    "\n",
    "#### Use # symbols for headers\n",
    "\n",
    "Code Formatting\n",
    "\n",
    "- Use the backquote (\\`) for `code formatting`.\n",
    "- Use three backquotes for a code block (optionally specifying language)\n",
    "\n",
    "```python\n",
    "def say_hello():\n",
    "    print(\"hello\")\n",
    "```\n",
    "Block quotes\n",
    "\n",
    "> You can use a `>` for blockquote formatting\n",
    "\n",
    "Getting fancy with $LaTex$\n",
    "\n",
    "- You can use the `$` symbol for lil bits of [Latex](https://people.cs.umass.edu/~freedman/resources/Freedman_LaTeXCheatSheet.pdf) formatting, eg $x^2$\n",
    "- You can use `$$` for block Latex\n",
    "\n",
    "$$\n",
    "x_{c}^{2} = \\sum{\\frac{(O_i - E_i)^2}{E_i}}\n",
    "$$"
   ]
  }
 ],
 "metadata": {
  "kernelspec": {
   "display_name": "Python 3",
   "language": "python",
   "name": "python3"
  },
  "language_info": {
   "codemirror_mode": {
    "name": "ipython",
    "version": 3
   },
   "file_extension": ".py",
   "mimetype": "text/x-python",
   "name": "python",
   "nbconvert_exporter": "python",
   "pygments_lexer": "ipython3",
   "version": "3.6.6"
  }
 },
 "nbformat": 4,
 "nbformat_minor": 2
}
